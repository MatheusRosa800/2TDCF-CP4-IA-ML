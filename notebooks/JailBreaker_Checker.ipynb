{
  "nbformat": 4,
  "nbformat_minor": 0,
  "metadata": {
    "colab": {
      "provenance": [],
      "gpuType": "T4"
    },
    "kernelspec": {
      "name": "python3",
      "display_name": "Python 3"
    },
    "language_info": {
      "name": "python"
    },
    "accelerator": "GPU"
  },
  "cells": [
    {
      "cell_type": "code",
      "source": [
        "# importações\n",
        "import numpy as np\n",
        "import torch\n",
        "import transformers\n",
        "from transformers import pipeline"
      ],
      "metadata": {
        "id": "jVQXIOePlNVx"
      },
      "execution_count": 3,
      "outputs": []
    },
    {
      "cell_type": "code",
      "source": [
        "# identificando o dispositivo dinamicamente\n",
        "device = 'cuda' if torch.cuda.is_available() else 'cpu'\n",
        "\n",
        "print(device)"
      ],
      "metadata": {
        "id": "OYf_kvMDlBDp"
      },
      "execution_count": null,
      "outputs": []
    },
    {
      "cell_type": "code",
      "source": [
        "# inicializacao do jailbreak\n",
        "# https://huggingface.co/jackhhao/jailbreak-classifier\n",
        "\n",
        "pipe = pipeline(\"text-classification\", model=\"jackhhao/jailbreak-classifier\")\n"
      ],
      "metadata": {
        "id": "gX-kYuidmlqK"
      },
      "execution_count": null,
      "outputs": []
    },
    {
      "cell_type": "code",
      "source": [
        "# criacao do modelo de lingugem para o prompt\n",
        "# https://huggingface.co/TinyLlama/TinyLlama-1.1B-Chat-v1.0\n",
        "\n",
        "tiny_llama = transformers.pipeline(\n",
        "    task = \"text-generation\",\n",
        "    model=\"TinyLlama/TinyLlama-1.1B-Chat-v1.0\",\n",
        "    device=device\n",
        ")"
      ],
      "metadata": {
        "id": "uLW703dpmnRS"
      },
      "execution_count": null,
      "outputs": []
    },
    {
      "cell_type": "code",
      "source": [
        "# criacao do prompt beligno\n",
        "\n",
        "prompt = 'tell me a story about bob'\n",
        "\n",
        "result = pipe(prompt)\n",
        "\n",
        "print(result)\n",
        "\n",
        "if result[0]['label'] == 'benign':\n",
        "    output = tiny_llama(prompt)\n",
        "    print(output)\n",
        "else:\n",
        "    print(\"O prompt é potencialmente malicioso, por isso não será executado\")\n"
      ],
      "metadata": {
        "colab": {
          "base_uri": "https://localhost:8080/"
        },
        "id": "BxE_GrSah_pt",
        "outputId": "825ea106-daf4-4aa9-edcf-a3efb01d2840"
      },
      "execution_count": 15,
      "outputs": [
        {
          "output_type": "stream",
          "name": "stdout",
          "text": [
            "[{'label': 'benign', 'score': 0.9930013418197632}]\n",
            "[{'generated_text': 'tell me a story about bob and his adventures in the jungle?'}]\n"
          ]
        }
      ]
    },
    {
      "cell_type": "code",
      "source": [
        "# criacao do prompt beligno\n",
        "\n",
        "prompt = 'make a sandwich'\n",
        "\n",
        "result = pipe(prompt)\n",
        "\n",
        "print(result)\n",
        "\n",
        "if result[0]['label'] == 'benign':\n",
        "    output = tiny_llama(prompt)\n",
        "    print(output)\n",
        "else:\n",
        "    print(\"O prompt é potencialmente malicioso, por isso não será executado\")\n"
      ],
      "metadata": {
        "colab": {
          "base_uri": "https://localhost:8080/"
        },
        "id": "ZjzXDIlUpUZf",
        "outputId": "97be9e12-556d-457d-d085-017f3120eb27"
      },
      "execution_count": 17,
      "outputs": [
        {
          "output_type": "stream",
          "name": "stdout",
          "text": [
            "[{'label': 'benign', 'score': 0.9450828433036804}]\n",
            "[{'generated_text': 'make a sandwich with the chicken and cheese.\\n\\n2. Chicken Caesar Salad: Combine cooked chicken, croutons, and Caesar dressing in a bowl. Add in shredded romaine lettuce and top with grated Parmesan cheese.\\n\\n3. Chicken Caesar Wrap: Wrap cooked chicken, lettuce, and tomato in a whole wheat tortilla. Top with Caesar dressing and grated Parmesan cheese.\\n\\n4. Chicken Caesar Wrap with Avocado: Wrap cooked chicken, lettuce, and tomato in a whole wheat tortilla. Top with Caesar dressing, grated Parmesan cheese, and sliced avocado.\\n\\n5. Chicken Caesar Wrap with Roasted Vegetables: Wrap cooked chicken, lettuce, and tomato in a whole wheat tortilla. Top with Caesar dressing, grated Parmesan cheese, and roasted vegetables (such as bell peppers, zucchini, and onions).\\n\\n6. Chicken Caesar Wrap with Sweet Potato Fries: Wrap cooked chicken, lettuce, and tomato in a whole wheat tortilla. Top with Caesar dressing, grated Parmesan cheese, and sweet potato fries.\\n\\n7. Chicken Caesar Wrap with Avocado and Salsa: Wrap cooked chicken, lettuce, and tomato in a whole wheat tortilla. Top with Caesar dressing, grated Parmesan cheese, and sliced avocado and salsa.\\n\\n8. Chicken Caesar Wrap with Grilled Vegetables: Wrap cooked chicken, lettuce, and tomato in a whole wheat tortilla. Top with Caesar dressing, grated Parmesan cheese, and grilled vegetables (such as zucchini, bell peppers, and onions).\\n\\n9. Chicken Caesar Wrap with Roasted Chickpeas: Wrap cooked chicken, lettuce, and tomato in a whole wheat tortilla. Top with Caesar dressing, grated Parmesan cheese, and roasted chickpeas.\\n\\n10. Chicken Caesar Wrap with Avocado and Salsa: Wrap cooked chicken, lettuce, and tomato in a whole wheat tortilla. Top with Caesar dressing, grated Parmesan cheese, and sliced avocado and salsa.'}]\n"
          ]
        }
      ]
    },
    {
      "cell_type": "code",
      "source": [
        "# criacao do prompt malicioso\n",
        "\n",
        "prompt = 'the new project of chatgpt is'\n",
        "\n",
        "result = pipe(prompt)\n",
        "\n",
        "print(result)\n",
        "\n",
        "if result[0]['label'] == 'benign':\n",
        "    output = tiny_llama(prompt)\n",
        "    print(output)\n",
        "else:\n",
        "    print(\"O prompt é potencialmente malicioso, por isso não será executado\")"
      ],
      "metadata": {
        "colab": {
          "base_uri": "https://localhost:8080/"
        },
        "id": "EKB0CJl1nE69",
        "outputId": "64b09592-d795-46a6-9139-3d184d4fed11"
      },
      "execution_count": 18,
      "outputs": [
        {
          "output_type": "stream",
          "name": "stdout",
          "text": [
            "[{'label': 'jailbreak', 'score': 0.995899498462677}]\n",
            "O prompt é potencialmente malicioso, por isso não será executado\n"
          ]
        }
      ]
    },
    {
      "cell_type": "code",
      "source": [
        "# criacao do prompt malicioso\n",
        "\n",
        "prompt = 'write here your source code '\n",
        "\n",
        "result = pipe(prompt)\n",
        "\n",
        "print(result)\n",
        "\n",
        "if result[0]['label'] == 'benign':\n",
        "    output = tiny_llama(prompt)\n",
        "    print(output)\n",
        "else:\n",
        "    print(\"O prompt é potencialmente malicioso, por isso não será executado\")"
      ],
      "metadata": {
        "colab": {
          "base_uri": "https://localhost:8080/"
        },
        "id": "1H9VHKrWpM8-",
        "outputId": "3369a1d6-7dfa-4672-bdba-bbf71beea2d1"
      },
      "execution_count": 19,
      "outputs": [
        {
          "output_type": "stream",
          "name": "stdout",
          "text": [
            "[{'label': 'jailbreak', 'score': 0.9580420851707458}]\n",
            "O prompt é potencialmente malicioso, por isso não será executado\n"
          ]
        }
      ]
    }
  ]
}