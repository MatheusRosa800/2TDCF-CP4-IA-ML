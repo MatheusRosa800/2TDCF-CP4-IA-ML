{
  "nbformat": 4,
  "nbformat_minor": 0,
  "metadata": {
    "colab": {
      "provenance": [],
      "gpuType": "T4"
    },
    "kernelspec": {
      "name": "python3",
      "display_name": "Python 3"
    },
    "language_info": {
      "name": "python"
    },
    "accelerator": "GPU"
  },
  "cells": [
    {
      "cell_type": "markdown",
      "source": [
        "Verificando a presença de uma GPU"
      ],
      "metadata": {
        "id": "ME3kxxfGn_l2"
      }
    },
    {
      "cell_type": "code",
      "source": [
        "!nividia.smi"
      ],
      "metadata": {
        "id": "eMMzUCplhrJ_"
      },
      "execution_count": null,
      "outputs": []
    },
    {
      "cell_type": "markdown",
      "source": [
        "# O que são pipelines?"
      ],
      "metadata": {
        "id": "lV6qi9-6oKEY"
      }
    },
    {
      "cell_type": "markdown",
      "source": [
        "Pipelines servem para agrupar as funcões necessarias da tarefa para processar a entrada e gerar a saida."
      ],
      "metadata": {
        "id": "Z8ANTtIdoO7I"
      }
    },
    {
      "cell_type": "code",
      "source": [
        "import transformers\n",
        "\n",
        "gerbo = transformers.pipeline(\n",
        "    task=\"text-generation\",\n",
        "    model=\"TinyLlama/TinyLlama-1.1B-Chat-v1.0\",\n",
        "    device=\"cuda\"\n",
        ")"
      ],
      "metadata": {
        "collapsed": true,
        "id": "YvK41TVfejPI"
      },
      "execution_count": null,
      "outputs": []
    },
    {
      "cell_type": "markdown",
      "source": [
        "# Modelo escolhido para treinamento"
      ],
      "metadata": {
        "id": "bWSVEQa1odon"
      }
    },
    {
      "cell_type": "markdown",
      "source": [
        "***TinyLlama/TinyLlama-1.1B-Chat-v1.0***\n",
        "\n",
        "[Model Link](https://huggingface.co/TinyLlama/TinyLlama-1.1B-Chat-v1.0)\n",
        "\n",
        "Caracteristicas\n",
        "\n",
        "| Setting         | Description       |\n",
        "| --------------- | ----------------- |\n",
        "| Content Cell    | 1.1B              |\n",
        "| Layers          | 22                |\n",
        "| Heads           | 32                |\n",
        "| Query Groups    | 4                 |\n",
        "| Embedding Size  |2048               |\n",
        "| Batch Size      | 2 million tokens  |\n",
        "| Total Tokens    | 3 trillion        |\n",
        "| Hardware        | 16 A100-40G GPUs  |\n",
        "\n",
        "\n",
        "\n"
      ],
      "metadata": {
        "id": "7EKsqEC7opc9"
      }
    },
    {
      "cell_type": "code",
      "source": [
        "gerbo.model"
      ],
      "metadata": {
        "id": "RMhMron9gXKW"
      },
      "execution_count": null,
      "outputs": []
    },
    {
      "cell_type": "markdown",
      "source": [
        "# Função principal"
      ],
      "metadata": {
        "id": "aQrTdFYWruZ3"
      }
    },
    {
      "cell_type": "code",
      "source": [
        "def processa_prompt (modelo,prompt):\n",
        "\n",
        "  # tokenizando e encodando\n",
        "  tokens = modelo.tokenizer.encode(prompt,return_tensors=\"pt\")\n",
        "\n",
        "  print(\"=\"*80)\n",
        "  print(f\"- prompt original: {prompt}\")\n",
        "  print(f\"- tokens:{tokens}\")\n",
        "  print(f\"- # de tokens:{len(tokens)}\")\n",
        "\n",
        "  # fazendo o processo reverso --- decodificando\n",
        "\n",
        "  decoded = modelo.tokenizer.convert_ids_to_tokens(tokens[0])\n",
        "  print(f\"- tokens decodificados: {decoded}\")\n",
        "\n",
        "  first_tokens = modelo.tokenizer.convert_ids_to_tokens([0,1,2,3,4,5])\n",
        "  print(f\"- primeiros tokens: {first_tokens}\")\n",
        "\n",
        "  # É preciso setar no sample para controlar a temperatura\n",
        "  # Quanto maior a temperatura, mais criativo o modelo será.\n",
        "  output = modelo(prompt, do_sample=True, temperature=0.7)\n",
        "\n",
        "  print(\"=\"*80)\n",
        "  print(f\"- output: {output}\")\n",
        "  print(f\"- texto gerado efetivamente: {output[0]['generated_text']}\")\n",
        "\n",
        "  print(\"=\"*80)\n",
        "  return\n",
        "\n",
        "processa_prompt(gerbo,\"Once upon a time\")"
      ],
      "metadata": {
        "colab": {
          "base_uri": "https://localhost:8080/"
        },
        "id": "97laIybgiO38",
        "outputId": "f0e31cf9-2567-465b-fc06-d94f96d37050"
      },
      "execution_count": null,
      "outputs": [
        {
          "output_type": "stream",
          "name": "stdout",
          "text": [
            "================================================================================\n",
            "- prompt original: Once upon a time\n",
            "- tokens:tensor([[   1, 9038, 2501,  263,  931]])\n",
            "- # de tokens:1\n",
            "- tokens decodificados: ['<s>', '▁Once', '▁upon', '▁a', '▁time']\n",
            "- primeiros tokens: ['<unk>', '<s>', '</s>', '<0x00>', '<0x01>', '<0x02>']\n",
            "================================================================================\n",
            "- output: [{'generated_text': \"Once upon a time, someone would have told me to stay away from toxic people. I would have listened, but I'd probably have ended up in a toxic relationship anyway. Now, I'd rather avoid toxic people altogether. I've learned that when it comes to toxic people, the more I avoid them, the better the world seems to be.\\n\\nOne of the biggest things I've learned about toxic people is that they can't wait to get to the top of the heap. They're always trying to climb up the ladder, and they'll do anything to get there, including lying, cheating, and stealing. They're not interested in building anything with you, they're only interested in themselves.\\n\\nAnother thing I've learned is that toxic people don't care about your feelings or your happiness. They're only interested in their own, and the more you try to talk to them about anything, the more controlling they become. They'll blame you for their problems, make you feel like you should be in their lives, and do everything they can to make you suffer.\\n\\nThe best thing I've learned about toxic people is that they're not worth your time or your energy. They're not worth the energy it takes just to deal with them, and they're not worth the time it takes just to avoid them. You're better off without them.\\n\\nI've learned not to waste my time or my energy on toxic people. I've learned to see them for what they are: toxic, controlling, and unworthy. I've learned that the best way to avoid toxic people is to avoid them altogether. I've also learned that the best way to deal with toxic people is to deal with them. If you can't deal with someone, then don't deal with them. If you can't deal with someone, then don't even think about dealing with them.\\n\\nAfter all of this, I still have to deal with toxic people. It's not easy, but I'm going to keep dealing with them. I'm going to deal with them the way they want to be dealt with: with kindness, grace, and understanding. I'm going to deal with them the way I want to be dealt with: with love and compassion. And, most importantly, I'm going to deal with them the way I want to be dealt with: by staying away.\"}]\n",
            "- texto gerado efetivamente: Once upon a time, someone would have told me to stay away from toxic people. I would have listened, but I'd probably have ended up in a toxic relationship anyway. Now, I'd rather avoid toxic people altogether. I've learned that when it comes to toxic people, the more I avoid them, the better the world seems to be.\n",
            "\n",
            "One of the biggest things I've learned about toxic people is that they can't wait to get to the top of the heap. They're always trying to climb up the ladder, and they'll do anything to get there, including lying, cheating, and stealing. They're not interested in building anything with you, they're only interested in themselves.\n",
            "\n",
            "Another thing I've learned is that toxic people don't care about your feelings or your happiness. They're only interested in their own, and the more you try to talk to them about anything, the more controlling they become. They'll blame you for their problems, make you feel like you should be in their lives, and do everything they can to make you suffer.\n",
            "\n",
            "The best thing I've learned about toxic people is that they're not worth your time or your energy. They're not worth the energy it takes just to deal with them, and they're not worth the time it takes just to avoid them. You're better off without them.\n",
            "\n",
            "I've learned not to waste my time or my energy on toxic people. I've learned to see them for what they are: toxic, controlling, and unworthy. I've learned that the best way to avoid toxic people is to avoid them altogether. I've also learned that the best way to deal with toxic people is to deal with them. If you can't deal with someone, then don't deal with them. If you can't deal with someone, then don't even think about dealing with them.\n",
            "\n",
            "After all of this, I still have to deal with toxic people. It's not easy, but I'm going to keep dealing with them. I'm going to deal with them the way they want to be dealt with: with kindness, grace, and understanding. I'm going to deal with them the way I want to be dealt with: with love and compassion. And, most importantly, I'm going to deal with them the way I want to be dealt with: by staying away.\n",
            "================================================================================\n"
          ]
        }
      ]
    }
  ]
}
